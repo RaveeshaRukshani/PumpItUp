{
 "cells": [
  {
   "cell_type": "code",
   "execution_count": 2,
   "source": [
    "import pandas as pd\r\n",
    "import numpy as np\r\n",
    "from sklearn.ensemble import RandomForestClassifier\r\n",
    "from sklearn.preprocessing import RobustScaler\r\n",
    "from sklearn.model_selection import train_test_split\r\n",
    "from category_encoders import TargetEncoder\r\n",
    "from sklearn.pipeline import make_pipeline, Pipeline\r\n",
    "from sklearn.compose import ColumnTransformer\r\n",
    "from sklearn.metrics import accuracy_score\r\n",
    "from sklearn.preprocessing import LabelEncoder\r\n",
    "from xgboost import XGBClassifier\r\n",
    "from imblearn.over_sampling import SMOTE\r\n",
    "from matplotlib import pyplot\r\n",
    "import seaborn as sns"
   ],
   "outputs": [],
   "metadata": {}
  },
  {
   "cell_type": "code",
   "execution_count": 3,
   "source": [
    "train_data = pd.read_csv('...\\processedTrainData.csv')\r\n",
    "test_data = pd.read_csv('...\\processedTestData.csv')"
   ],
   "outputs": [],
   "metadata": {}
  },
  {
   "cell_type": "code",
   "execution_count": 4,
   "source": [
    "train_data.info()"
   ],
   "outputs": [
    {
     "output_type": "stream",
     "name": "stdout",
     "text": [
      "<class 'pandas.core.frame.DataFrame'>\n",
      "RangeIndex: 59400 entries, 0 to 59399\n",
      "Data columns (total 21 columns):\n",
      " #   Column                 Non-Null Count  Dtype  \n",
      "---  ------                 --------------  -----  \n",
      " 0   Unnamed: 0             59400 non-null  int64  \n",
      " 1   status_group           59400 non-null  object \n",
      " 2   gps_height             59400 non-null  int64  \n",
      " 3   longitude              59400 non-null  float64\n",
      " 4   latitude               59400 non-null  float64\n",
      " 5   basin                  59400 non-null  object \n",
      " 6   region                 59400 non-null  object \n",
      " 7   district_code          59400 non-null  int64  \n",
      " 8   population             59400 non-null  int64  \n",
      " 9   public_meeting         59400 non-null  bool   \n",
      " 10  permit                 59400 non-null  bool   \n",
      " 11  extraction_type_group  59400 non-null  object \n",
      " 12  management             59400 non-null  object \n",
      " 13  payment_type           59400 non-null  object \n",
      " 14  water_quality          59400 non-null  object \n",
      " 15  quantity_group         59400 non-null  object \n",
      " 16  source                 59400 non-null  object \n",
      " 17  waterpoint_type        59400 non-null  object \n",
      " 18  funder_grp             59400 non-null  object \n",
      " 19  installer_grp          59400 non-null  object \n",
      " 20  era                    59400 non-null  int64  \n",
      "dtypes: bool(2), float64(2), int64(5), object(12)\n",
      "memory usage: 8.7+ MB\n"
     ]
    }
   ],
   "metadata": {}
  },
  {
   "cell_type": "code",
   "execution_count": 5,
   "source": [
    "train_data = train_data.drop(['Unnamed: 0'], axis=1)"
   ],
   "outputs": [],
   "metadata": {}
  },
  {
   "cell_type": "code",
   "execution_count": 6,
   "source": [
    "train_data.info()"
   ],
   "outputs": [
    {
     "output_type": "stream",
     "name": "stdout",
     "text": [
      "<class 'pandas.core.frame.DataFrame'>\n",
      "RangeIndex: 59400 entries, 0 to 59399\n",
      "Data columns (total 20 columns):\n",
      " #   Column                 Non-Null Count  Dtype  \n",
      "---  ------                 --------------  -----  \n",
      " 0   status_group           59400 non-null  object \n",
      " 1   gps_height             59400 non-null  int64  \n",
      " 2   longitude              59400 non-null  float64\n",
      " 3   latitude               59400 non-null  float64\n",
      " 4   basin                  59400 non-null  object \n",
      " 5   region                 59400 non-null  object \n",
      " 6   district_code          59400 non-null  int64  \n",
      " 7   population             59400 non-null  int64  \n",
      " 8   public_meeting         59400 non-null  bool   \n",
      " 9   permit                 59400 non-null  bool   \n",
      " 10  extraction_type_group  59400 non-null  object \n",
      " 11  management             59400 non-null  object \n",
      " 12  payment_type           59400 non-null  object \n",
      " 13  water_quality          59400 non-null  object \n",
      " 14  quantity_group         59400 non-null  object \n",
      " 15  source                 59400 non-null  object \n",
      " 16  waterpoint_type        59400 non-null  object \n",
      " 17  funder_grp             59400 non-null  object \n",
      " 18  installer_grp          59400 non-null  object \n",
      " 19  era                    59400 non-null  int64  \n",
      "dtypes: bool(2), float64(2), int64(4), object(12)\n",
      "memory usage: 8.3+ MB\n"
     ]
    }
   ],
   "metadata": {}
  },
  {
   "cell_type": "code",
   "execution_count": 7,
   "source": [
    "test_data.info()"
   ],
   "outputs": [
    {
     "output_type": "stream",
     "name": "stdout",
     "text": [
      "<class 'pandas.core.frame.DataFrame'>\n",
      "RangeIndex: 14850 entries, 0 to 14849\n",
      "Data columns (total 21 columns):\n",
      " #   Column                 Non-Null Count  Dtype  \n",
      "---  ------                 --------------  -----  \n",
      " 0   Unnamed: 0             14850 non-null  int64  \n",
      " 1   id                     14850 non-null  int64  \n",
      " 2   gps_height             14850 non-null  int64  \n",
      " 3   longitude              14850 non-null  float64\n",
      " 4   latitude               14850 non-null  float64\n",
      " 5   basin                  14850 non-null  object \n",
      " 6   region                 14850 non-null  object \n",
      " 7   district_code          14850 non-null  int64  \n",
      " 8   population             14850 non-null  int64  \n",
      " 9   public_meeting         14850 non-null  bool   \n",
      " 10  permit                 14850 non-null  bool   \n",
      " 11  extraction_type_group  14850 non-null  object \n",
      " 12  management             14850 non-null  object \n",
      " 13  payment_type           14850 non-null  object \n",
      " 14  water_quality          14850 non-null  object \n",
      " 15  quantity_group         14850 non-null  object \n",
      " 16  source                 14850 non-null  object \n",
      " 17  waterpoint_type        14850 non-null  object \n",
      " 18  funder_grp             14850 non-null  object \n",
      " 19  installer_grp          14850 non-null  object \n",
      " 20  era                    14850 non-null  int64  \n",
      "dtypes: bool(2), float64(2), int64(6), object(11)\n",
      "memory usage: 2.2+ MB\n"
     ]
    }
   ],
   "metadata": {}
  },
  {
   "cell_type": "code",
   "execution_count": 8,
   "source": [
    "test_data = test_data.drop(['Unnamed: 0'], axis=1)"
   ],
   "outputs": [],
   "metadata": {}
  },
  {
   "cell_type": "code",
   "execution_count": 9,
   "source": [
    "test_data.info()"
   ],
   "outputs": [
    {
     "output_type": "stream",
     "name": "stdout",
     "text": [
      "<class 'pandas.core.frame.DataFrame'>\n",
      "RangeIndex: 14850 entries, 0 to 14849\n",
      "Data columns (total 20 columns):\n",
      " #   Column                 Non-Null Count  Dtype  \n",
      "---  ------                 --------------  -----  \n",
      " 0   id                     14850 non-null  int64  \n",
      " 1   gps_height             14850 non-null  int64  \n",
      " 2   longitude              14850 non-null  float64\n",
      " 3   latitude               14850 non-null  float64\n",
      " 4   basin                  14850 non-null  object \n",
      " 5   region                 14850 non-null  object \n",
      " 6   district_code          14850 non-null  int64  \n",
      " 7   population             14850 non-null  int64  \n",
      " 8   public_meeting         14850 non-null  bool   \n",
      " 9   permit                 14850 non-null  bool   \n",
      " 10  extraction_type_group  14850 non-null  object \n",
      " 11  management             14850 non-null  object \n",
      " 12  payment_type           14850 non-null  object \n",
      " 13  water_quality          14850 non-null  object \n",
      " 14  quantity_group         14850 non-null  object \n",
      " 15  source                 14850 non-null  object \n",
      " 16  waterpoint_type        14850 non-null  object \n",
      " 17  funder_grp             14850 non-null  object \n",
      " 18  installer_grp          14850 non-null  object \n",
      " 19  era                    14850 non-null  int64  \n",
      "dtypes: bool(2), float64(2), int64(5), object(11)\n",
      "memory usage: 2.1+ MB\n"
     ]
    }
   ],
   "metadata": {}
  },
  {
   "cell_type": "markdown",
   "source": [
    "Pre-Processing Data"
   ],
   "metadata": {}
  },
  {
   "cell_type": "code",
   "execution_count": 10,
   "source": [
    "train_data['status_group'].value_counts()"
   ],
   "outputs": [
    {
     "output_type": "execute_result",
     "data": {
      "text/plain": [
       "functional                 32259\n",
       "non functional             22824\n",
       "functional needs repair     4317\n",
       "Name: status_group, dtype: int64"
      ]
     },
     "metadata": {},
     "execution_count": 10
    }
   ],
   "metadata": {}
  },
  {
   "cell_type": "code",
   "execution_count": 11,
   "source": [
    "labelencoder = LabelEncoder()\r\n",
    "train_data['status_group'] = labelencoder.fit_transform(train_data['status_group'])"
   ],
   "outputs": [],
   "metadata": {}
  },
  {
   "cell_type": "code",
   "execution_count": 12,
   "source": [
    "train_data['status_group'].value_counts()"
   ],
   "outputs": [
    {
     "output_type": "execute_result",
     "data": {
      "text/plain": [
       "0    32259\n",
       "2    22824\n",
       "1     4317\n",
       "Name: status_group, dtype: int64"
      ]
     },
     "metadata": {},
     "execution_count": 12
    }
   ],
   "metadata": {}
  },
  {
   "cell_type": "markdown",
   "source": [
    "Convert boolean values to int"
   ],
   "metadata": {}
  },
  {
   "cell_type": "code",
   "execution_count": 13,
   "source": [
    "train_data['public_meeting'] = train_data['public_meeting'].astype(bool).astype(int)"
   ],
   "outputs": [],
   "metadata": {}
  },
  {
   "cell_type": "code",
   "execution_count": 14,
   "source": [
    "test_data['public_meeting'] = test_data['public_meeting'].astype(bool).astype(int)"
   ],
   "outputs": [],
   "metadata": {}
  },
  {
   "cell_type": "code",
   "execution_count": 15,
   "source": [
    "train_data['permit'] = train_data['permit'].astype(bool).astype(int)"
   ],
   "outputs": [],
   "metadata": {}
  },
  {
   "cell_type": "code",
   "execution_count": 16,
   "source": [
    "test_data['permit'] = test_data['permit'].astype(bool).astype(int)"
   ],
   "outputs": [],
   "metadata": {}
  },
  {
   "cell_type": "code",
   "execution_count": 17,
   "source": [
    "train_data.info()"
   ],
   "outputs": [
    {
     "output_type": "stream",
     "name": "stdout",
     "text": [
      "<class 'pandas.core.frame.DataFrame'>\n",
      "RangeIndex: 59400 entries, 0 to 59399\n",
      "Data columns (total 20 columns):\n",
      " #   Column                 Non-Null Count  Dtype  \n",
      "---  ------                 --------------  -----  \n",
      " 0   status_group           59400 non-null  int32  \n",
      " 1   gps_height             59400 non-null  int64  \n",
      " 2   longitude              59400 non-null  float64\n",
      " 3   latitude               59400 non-null  float64\n",
      " 4   basin                  59400 non-null  object \n",
      " 5   region                 59400 non-null  object \n",
      " 6   district_code          59400 non-null  int64  \n",
      " 7   population             59400 non-null  int64  \n",
      " 8   public_meeting         59400 non-null  int32  \n",
      " 9   permit                 59400 non-null  int32  \n",
      " 10  extraction_type_group  59400 non-null  object \n",
      " 11  management             59400 non-null  object \n",
      " 12  payment_type           59400 non-null  object \n",
      " 13  water_quality          59400 non-null  object \n",
      " 14  quantity_group         59400 non-null  object \n",
      " 15  source                 59400 non-null  object \n",
      " 16  waterpoint_type        59400 non-null  object \n",
      " 17  funder_grp             59400 non-null  object \n",
      " 18  installer_grp          59400 non-null  object \n",
      " 19  era                    59400 non-null  int64  \n",
      "dtypes: float64(2), int32(3), int64(4), object(11)\n",
      "memory usage: 8.4+ MB\n"
     ]
    }
   ],
   "metadata": {}
  },
  {
   "cell_type": "code",
   "execution_count": 18,
   "source": [
    "test_data.info()"
   ],
   "outputs": [
    {
     "output_type": "stream",
     "name": "stdout",
     "text": [
      "<class 'pandas.core.frame.DataFrame'>\n",
      "RangeIndex: 14850 entries, 0 to 14849\n",
      "Data columns (total 20 columns):\n",
      " #   Column                 Non-Null Count  Dtype  \n",
      "---  ------                 --------------  -----  \n",
      " 0   id                     14850 non-null  int64  \n",
      " 1   gps_height             14850 non-null  int64  \n",
      " 2   longitude              14850 non-null  float64\n",
      " 3   latitude               14850 non-null  float64\n",
      " 4   basin                  14850 non-null  object \n",
      " 5   region                 14850 non-null  object \n",
      " 6   district_code          14850 non-null  int64  \n",
      " 7   population             14850 non-null  int64  \n",
      " 8   public_meeting         14850 non-null  int32  \n",
      " 9   permit                 14850 non-null  int32  \n",
      " 10  extraction_type_group  14850 non-null  object \n",
      " 11  management             14850 non-null  object \n",
      " 12  payment_type           14850 non-null  object \n",
      " 13  water_quality          14850 non-null  object \n",
      " 14  quantity_group         14850 non-null  object \n",
      " 15  source                 14850 non-null  object \n",
      " 16  waterpoint_type        14850 non-null  object \n",
      " 17  funder_grp             14850 non-null  object \n",
      " 18  installer_grp          14850 non-null  object \n",
      " 19  era                    14850 non-null  int64  \n",
      "dtypes: float64(2), int32(2), int64(5), object(11)\n",
      "memory usage: 2.2+ MB\n"
     ]
    }
   ],
   "metadata": {}
  },
  {
   "cell_type": "markdown",
   "source": [
    "Get categorical columns and numerical columns to encode and scale"
   ],
   "metadata": {}
  },
  {
   "cell_type": "code",
   "execution_count": 19,
   "source": [
    "col_cat = ['basin','region', 'public_meeting','permit', 'extraction_type_group','management','payment_type','water_quality','quantity_group',\r\n",
    "               'source','waterpoint_type','funder_grp', 'installer_grp', 'era']"
   ],
   "outputs": [],
   "metadata": {}
  },
  {
   "cell_type": "code",
   "execution_count": 20,
   "source": [
    "col_num = ['gps_height','longitude','latitude','district_code','population']"
   ],
   "outputs": [],
   "metadata": {}
  },
  {
   "cell_type": "code",
   "execution_count": 21,
   "source": [
    "encoder = TargetEncoder()\r\n",
    "scaler=RobustScaler()\r\n",
    "\r\n",
    "trans_cat = make_pipeline(encoder)\r\n",
    "trans_num = make_pipeline(scaler)\r\n",
    "\r\n",
    "transformer = ColumnTransformer(transformers=[('cat', trans_cat, col_cat), ('num', trans_num, col_num)])"
   ],
   "outputs": [],
   "metadata": {}
  },
  {
   "cell_type": "code",
   "execution_count": 22,
   "source": [
    "X_train = train_data.drop(\"status_group\", axis=1)\r\n",
    "columns = X_train.columns\r\n",
    "y_train = train_data[\"status_group\"]\r\n",
    "X_test = test_data.drop(\"id\", axis=1).copy()\r\n",
    "\r\n",
    "#X_train, X_test, y_train, y_test = train_test_split(X_sampled, y_sampled, test_size=0.2, random_state=42)"
   ],
   "outputs": [],
   "metadata": {}
  },
  {
   "cell_type": "markdown",
   "source": [
    "RandomForest Model"
   ],
   "metadata": {}
  },
  {
   "cell_type": "code",
   "execution_count": 23,
   "source": [
    "model = RandomForestClassifier(n_estimators=1000,min_samples_split=10,criterion='gini')"
   ],
   "outputs": [],
   "metadata": {}
  },
  {
   "cell_type": "markdown",
   "source": [
    "XGBoost model"
   ],
   "metadata": {}
  },
  {
   "cell_type": "code",
   "execution_count": 24,
   "source": [
    "model_xgb = XGBClassifier(objective = 'multi:softmax', booster = 'gbtree', nrounds = 'min.error.idx',\r\n",
    "                      num_class = 3, maximize = False, eval_metric = 'merror', eta = .1,\r\n",
    "                      max_depth = 10, colsample_bytree = .4, n_jobs = -1,learning_rate = 0.05)"
   ],
   "outputs": [],
   "metadata": {}
  },
  {
   "cell_type": "markdown",
   "source": [
    "Train model "
   ],
   "metadata": {}
  },
  {
   "cell_type": "code",
   "execution_count": 25,
   "source": [
    "#smt = SMOTE(sampling_strategy = 'auto', n_jobs = -1)   //to SMOTE oversampling\r\n",
    "pipe = Pipeline(steps=[('encoder',transformer)])\r\n",
    "X_train = pipe.fit_transform(X_train, y_train)\r\n",
    "X_test = pipe.transform(X_test)\r\n",
    "#X_train, y_train = smt.fit_resample(X_train,y_train)  //to SMOTE oversampling\r\n",
    "\r\n",
    "model.fit(X_train, y_train)"
   ],
   "outputs": [
    {
     "output_type": "stream",
     "name": "stderr",
     "text": [
      "C:\\Users\\user\\anaconda3\\lib\\site-packages\\category_encoders\\utils.py:21: FutureWarning: is_categorical is deprecated and will be removed in a future version.  Use is_categorical_dtype instead\n",
      "  elif pd.api.types.is_categorical(cols):\n"
     ]
    },
    {
     "output_type": "execute_result",
     "data": {
      "text/plain": [
       "RandomForestClassifier(min_samples_split=10, n_estimators=1000)"
      ]
     },
     "metadata": {},
     "execution_count": 25
    }
   ],
   "metadata": {}
  },
  {
   "cell_type": "code",
   "execution_count": 26,
   "source": [
    "y_predict = model.predict(X_train)\r\n",
    "y_predictTest = model.predict(X_test)\r\n",
    "\r\n",
    "print(f\"TRAIN Accuracy: {accuracy_score(y_train, y_predict)}\")\r\n"
   ],
   "outputs": [
    {
     "output_type": "stream",
     "name": "stdout",
     "text": [
      "TRAIN Accuracy: 0.9125084175084175\n"
     ]
    }
   ],
   "metadata": {}
  },
  {
   "cell_type": "markdown",
   "source": [
    "Make submission file"
   ],
   "metadata": {}
  },
  {
   "cell_type": "code",
   "execution_count": 27,
   "source": [
    "status = labelencoder.inverse_transform(y_predictTest)\r\n",
    "\r\n",
    "output = pd.DataFrame({'id ': test_data.id , 'status_group': status})\r\n",
    "output.to_csv('D:\\Sem7\\ML\\pump\\Submission\\my\\my_submission.csv', index=False)"
   ],
   "outputs": [],
   "metadata": {}
  },
  {
   "cell_type": "markdown",
   "source": [
    "Post_processing"
   ],
   "metadata": {}
  },
  {
   "cell_type": "code",
   "execution_count": 29,
   "source": [
    "importance = model.feature_importances_\r\n",
    "names = columns\r\n",
    "model_type = 'RANDOM FOREST CLASSIFIER '\r\n",
    "\r\n",
    "feature_importance = np.array(importance)\r\n",
    "feature_names = np.array(names)\r\n",
    "\r\n",
    "data={'feature_names':feature_names,'feature_importance':feature_importance}\r\n",
    "fi_df = pd.DataFrame(data)\r\n",
    "\r\n",
    "fi_df.sort_values(by=['feature_importance'], ascending=False,inplace=True)\r\n",
    "\r\n",
    "pyplot.figure(figsize=(10,8))\r\n",
    "sns.barplot(x=fi_df['feature_importance'], y=fi_df['feature_names'])\r\n",
    "\r\n",
    "pyplot.title(model_type + 'FEATURE IMPORTANCE')\r\n",
    "pyplot.xlabel('FEATURE IMPORTANCE')\r\n",
    "pyplot.ylabel('FEATURE NAMES')"
   ],
   "outputs": [
    {
     "output_type": "execute_result",
     "data": {
      "text/plain": [
       "Text(0, 0.5, 'FEATURE NAMES')"
      ]
     },
     "metadata": {},
     "execution_count": 29
    },
    {
     "output_type": "display_data",
     "data": {
      "text/plain": [
       "<Figure size 720x576 with 1 Axes>"
      ],
      "image/png": "[encoded data removed]"
     },
     "metadata": {
      "needs_background": "light"
     }
    }
   ],
   "metadata": {}
  }
 ],
 "metadata": {
  "orig_nbformat": 4,
  "language_info": {
   "name": "python",
   "version": "3.8.8",
   "mimetype": "text/x-python",
   "codemirror_mode": {
    "name": "ipython",
    "version": 3
   },
   "pygments_lexer": "ipython3",
   "nbconvert_exporter": "python",
   "file_extension": ".py"
  },
  "kernelspec": {
   "name": "python3",
   "display_name": "Python 3.8.8 64-bit ('base': conda)"
  },
  "interpreter": {
   "hash": "6d46af94c2bbce495f1e668725902fa517c90b1782bcfe2fce0dd9868df553d3"
  }
 },
 "nbformat": 4,
 "nbformat_minor": 2
}
